{
 "cells": [
  {
   "cell_type": "code",
   "execution_count": 1,
   "id": "0e2c9626",
   "metadata": {},
   "outputs": [],
   "source": [
    "import pandas as pd\n",
    "import json"
   ]
  },
  {
   "cell_type": "code",
   "execution_count": 2,
   "id": "d2093482",
   "metadata": {},
   "outputs": [],
   "source": [
    "data = pd.read_csv('python hands-on - dataset.csv')"
   ]
  },
  {
   "cell_type": "code",
   "execution_count": 3,
   "id": "207950e2",
   "metadata": {},
   "outputs": [
    {
     "data": {
      "text/html": [
       "<div>\n",
       "<style scoped>\n",
       "    .dataframe tbody tr th:only-of-type {\n",
       "        vertical-align: middle;\n",
       "    }\n",
       "\n",
       "    .dataframe tbody tr th {\n",
       "        vertical-align: top;\n",
       "    }\n",
       "\n",
       "    .dataframe thead th {\n",
       "        text-align: right;\n",
       "    }\n",
       "</style>\n",
       "<table border=\"1\" class=\"dataframe\">\n",
       "  <thead>\n",
       "    <tr style=\"text-align: right;\">\n",
       "      <th></th>\n",
       "      <th>date</th>\n",
       "      <th>sku</th>\n",
       "      <th>warehouse_location</th>\n",
       "      <th>quantity</th>\n",
       "    </tr>\n",
       "  </thead>\n",
       "  <tbody>\n",
       "    <tr>\n",
       "      <th>0</th>\n",
       "      <td>2021-01-02</td>\n",
       "      <td>100940478</td>\n",
       "      <td>lagos</td>\n",
       "      <td>23</td>\n",
       "    </tr>\n",
       "    <tr>\n",
       "      <th>1</th>\n",
       "      <td>2020-11-09</td>\n",
       "      <td>100940479</td>\n",
       "      <td>lagos</td>\n",
       "      <td>84</td>\n",
       "    </tr>\n",
       "    <tr>\n",
       "      <th>2</th>\n",
       "      <td>2021-01-15</td>\n",
       "      <td>100940480</td>\n",
       "      <td>oyo</td>\n",
       "      <td>11</td>\n",
       "    </tr>\n",
       "    <tr>\n",
       "      <th>3</th>\n",
       "      <td>2016-11-09</td>\n",
       "      <td>100940481</td>\n",
       "      <td>ogun</td>\n",
       "      <td>98</td>\n",
       "    </tr>\n",
       "    <tr>\n",
       "      <th>4</th>\n",
       "      <td>2017-04-04</td>\n",
       "      <td>100940482</td>\n",
       "      <td>ogun</td>\n",
       "      <td>23</td>\n",
       "    </tr>\n",
       "    <tr>\n",
       "      <th>5</th>\n",
       "      <td>2018-01-13</td>\n",
       "      <td>100940483</td>\n",
       "      <td>abia</td>\n",
       "      <td>3</td>\n",
       "    </tr>\n",
       "    <tr>\n",
       "      <th>6</th>\n",
       "      <td>2021-03-15</td>\n",
       "      <td>100940484</td>\n",
       "      <td>kaduna</td>\n",
       "      <td>7</td>\n",
       "    </tr>\n",
       "    <tr>\n",
       "      <th>7</th>\n",
       "      <td>2021-01-11</td>\n",
       "      <td>100940485</td>\n",
       "      <td>abuja</td>\n",
       "      <td>4</td>\n",
       "    </tr>\n",
       "    <tr>\n",
       "      <th>8</th>\n",
       "      <td>2021-02-16</td>\n",
       "      <td>100940486</td>\n",
       "      <td>kano</td>\n",
       "      <td>9</td>\n",
       "    </tr>\n",
       "    <tr>\n",
       "      <th>9</th>\n",
       "      <td>2019-06-06</td>\n",
       "      <td>100940487</td>\n",
       "      <td>anambra</td>\n",
       "      <td>199</td>\n",
       "    </tr>\n",
       "  </tbody>\n",
       "</table>\n",
       "</div>"
      ],
      "text/plain": [
       "         date        sku warehouse_location  quantity\n",
       "0  2021-01-02  100940478              lagos        23\n",
       "1  2020-11-09  100940479              lagos        84\n",
       "2  2021-01-15  100940480                oyo        11\n",
       "3  2016-11-09  100940481               ogun        98\n",
       "4  2017-04-04  100940482               ogun        23\n",
       "5  2018-01-13  100940483               abia         3\n",
       "6  2021-03-15  100940484             kaduna         7\n",
       "7  2021-01-11  100940485              abuja         4\n",
       "8  2021-02-16  100940486               kano         9\n",
       "9  2019-06-06  100940487            anambra       199"
      ]
     },
     "execution_count": 3,
     "metadata": {},
     "output_type": "execute_result"
    }
   ],
   "source": [
    "data"
   ]
  },
  {
   "cell_type": "code",
   "execution_count": 4,
   "id": "bcd9f96a",
   "metadata": {},
   "outputs": [],
   "source": [
    "obsolete = pd.DataFrame(['FALSE','TRUE','FALSE','TRUE','TRUE','TRUE','FALSE','FALSE','FALSE','TRUE'])"
   ]
  },
  {
   "cell_type": "code",
   "execution_count": 5,
   "id": "521c30ed",
   "metadata": {},
   "outputs": [],
   "source": [
    "data.insert(4, 'obsolete', obsolete)"
   ]
  },
  {
   "cell_type": "code",
   "execution_count": 6,
   "id": "a3dbd36e",
   "metadata": {},
   "outputs": [
    {
     "data": {
      "text/html": [
       "<div>\n",
       "<style scoped>\n",
       "    .dataframe tbody tr th:only-of-type {\n",
       "        vertical-align: middle;\n",
       "    }\n",
       "\n",
       "    .dataframe tbody tr th {\n",
       "        vertical-align: top;\n",
       "    }\n",
       "\n",
       "    .dataframe thead th {\n",
       "        text-align: right;\n",
       "    }\n",
       "</style>\n",
       "<table border=\"1\" class=\"dataframe\">\n",
       "  <thead>\n",
       "    <tr style=\"text-align: right;\">\n",
       "      <th></th>\n",
       "      <th>date</th>\n",
       "      <th>sku</th>\n",
       "      <th>warehouse_location</th>\n",
       "      <th>quantity</th>\n",
       "      <th>obsolete</th>\n",
       "    </tr>\n",
       "  </thead>\n",
       "  <tbody>\n",
       "    <tr>\n",
       "      <th>0</th>\n",
       "      <td>2021-01-02</td>\n",
       "      <td>100940478</td>\n",
       "      <td>lagos</td>\n",
       "      <td>23</td>\n",
       "      <td>FALSE</td>\n",
       "    </tr>\n",
       "    <tr>\n",
       "      <th>1</th>\n",
       "      <td>2020-11-09</td>\n",
       "      <td>100940479</td>\n",
       "      <td>lagos</td>\n",
       "      <td>84</td>\n",
       "      <td>TRUE</td>\n",
       "    </tr>\n",
       "    <tr>\n",
       "      <th>2</th>\n",
       "      <td>2021-01-15</td>\n",
       "      <td>100940480</td>\n",
       "      <td>oyo</td>\n",
       "      <td>11</td>\n",
       "      <td>FALSE</td>\n",
       "    </tr>\n",
       "    <tr>\n",
       "      <th>3</th>\n",
       "      <td>2016-11-09</td>\n",
       "      <td>100940481</td>\n",
       "      <td>ogun</td>\n",
       "      <td>98</td>\n",
       "      <td>TRUE</td>\n",
       "    </tr>\n",
       "    <tr>\n",
       "      <th>4</th>\n",
       "      <td>2017-04-04</td>\n",
       "      <td>100940482</td>\n",
       "      <td>ogun</td>\n",
       "      <td>23</td>\n",
       "      <td>TRUE</td>\n",
       "    </tr>\n",
       "    <tr>\n",
       "      <th>5</th>\n",
       "      <td>2018-01-13</td>\n",
       "      <td>100940483</td>\n",
       "      <td>abia</td>\n",
       "      <td>3</td>\n",
       "      <td>TRUE</td>\n",
       "    </tr>\n",
       "    <tr>\n",
       "      <th>6</th>\n",
       "      <td>2021-03-15</td>\n",
       "      <td>100940484</td>\n",
       "      <td>kaduna</td>\n",
       "      <td>7</td>\n",
       "      <td>FALSE</td>\n",
       "    </tr>\n",
       "    <tr>\n",
       "      <th>7</th>\n",
       "      <td>2021-01-11</td>\n",
       "      <td>100940485</td>\n",
       "      <td>abuja</td>\n",
       "      <td>4</td>\n",
       "      <td>FALSE</td>\n",
       "    </tr>\n",
       "    <tr>\n",
       "      <th>8</th>\n",
       "      <td>2021-02-16</td>\n",
       "      <td>100940486</td>\n",
       "      <td>kano</td>\n",
       "      <td>9</td>\n",
       "      <td>FALSE</td>\n",
       "    </tr>\n",
       "    <tr>\n",
       "      <th>9</th>\n",
       "      <td>2019-06-06</td>\n",
       "      <td>100940487</td>\n",
       "      <td>anambra</td>\n",
       "      <td>199</td>\n",
       "      <td>TRUE</td>\n",
       "    </tr>\n",
       "  </tbody>\n",
       "</table>\n",
       "</div>"
      ],
      "text/plain": [
       "         date        sku warehouse_location  quantity obsolete\n",
       "0  2021-01-02  100940478              lagos        23    FALSE\n",
       "1  2020-11-09  100940479              lagos        84     TRUE\n",
       "2  2021-01-15  100940480                oyo        11    FALSE\n",
       "3  2016-11-09  100940481               ogun        98     TRUE\n",
       "4  2017-04-04  100940482               ogun        23     TRUE\n",
       "5  2018-01-13  100940483               abia         3     TRUE\n",
       "6  2021-03-15  100940484             kaduna         7    FALSE\n",
       "7  2021-01-11  100940485              abuja         4    FALSE\n",
       "8  2021-02-16  100940486               kano         9    FALSE\n",
       "9  2019-06-06  100940487            anambra       199     TRUE"
      ]
     },
     "execution_count": 6,
     "metadata": {},
     "output_type": "execute_result"
    }
   ],
   "source": [
    "data"
   ]
  },
  {
   "cell_type": "code",
   "execution_count": 7,
   "id": "cf7a318d",
   "metadata": {},
   "outputs": [],
   "source": [
    "json_data = data.to_json(orient='columns')"
   ]
  },
  {
   "cell_type": "code",
   "execution_count": 8,
   "id": "8fba48ba",
   "metadata": {},
   "outputs": [
    {
     "name": "stdout",
     "output_type": "stream",
     "text": [
      "{\"date\":{\"0\":\"2021-01-02\",\"1\":\"2020-11-09\",\"2\":\"2021-01-15\",\"3\":\"2016-11-09\",\"4\":\"2017-04-04\",\"5\":\"2018-01-13\",\"6\":\"2021-03-15\",\"7\":\"2021-01-11\",\"8\":\"2021-02-16\",\"9\":\"2019-06-06\"},\"sku\":{\"0\":100940478,\"1\":100940479,\"2\":100940480,\"3\":100940481,\"4\":100940482,\"5\":100940483,\"6\":100940484,\"7\":100940485,\"8\":100940486,\"9\":100940487},\"warehouse_location\":{\"0\":\"lagos\",\"1\":\"lagos\",\"2\":\"oyo\",\"3\":\"ogun\",\"4\":\"ogun\",\"5\":\"abia\",\"6\":\"kaduna\",\"7\":\"abuja\",\"8\":\"kano\",\"9\":\"anambra\"},\"quantity\":{\"0\":23,\"1\":84,\"2\":11,\"3\":98,\"4\":23,\"5\":3,\"6\":7,\"7\":4,\"8\":9,\"9\":199},\"obsolete\":{\"0\":\"FALSE\",\"1\":\"TRUE\",\"2\":\"FALSE\",\"3\":\"TRUE\",\"4\":\"TRUE\",\"5\":\"TRUE\",\"6\":\"FALSE\",\"7\":\"FALSE\",\"8\":\"FALSE\",\"9\":\"TRUE\"}}\n"
     ]
    }
   ],
   "source": [
    "print(json_data)"
   ]
  },
  {
   "cell_type": "code",
   "execution_count": 9,
   "id": "dc32d6ce",
   "metadata": {},
   "outputs": [],
   "source": [
    "filename = 'new_json_data'"
   ]
  },
  {
   "cell_type": "code",
   "execution_count": 10,
   "id": "fddcf628",
   "metadata": {},
   "outputs": [],
   "source": [
    "with open(filename, 'w') as fp:\n",
    "    json.dump(json_data, fp)"
   ]
  },
  {
   "cell_type": "code",
   "execution_count": null,
   "id": "ccd2bac5",
   "metadata": {},
   "outputs": [],
   "source": []
  }
 ],
 "metadata": {
  "kernelspec": {
   "display_name": "Python 3",
   "language": "python",
   "name": "python3"
  },
  "language_info": {
   "codemirror_mode": {
    "name": "ipython",
    "version": 3
   },
   "file_extension": ".py",
   "mimetype": "text/x-python",
   "name": "python",
   "nbconvert_exporter": "python",
   "pygments_lexer": "ipython3",
   "version": "3.8.8"
  }
 },
 "nbformat": 4,
 "nbformat_minor": 5
}
